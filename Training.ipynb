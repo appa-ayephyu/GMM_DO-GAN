{
 "cells": [
  {
   "cell_type": "code",
   "execution_count": 1,
   "metadata": {},
   "outputs": [],
   "source": [
    "import torch\n",
    "from torch import optim\n",
    "from tqdm import tqdm\n",
    "# Imports for this repository\n",
    "from gmm_data_generator import load_db\n",
    "from numpy_dataset import NumpyDataset\n",
    "import torch.nn as nn\n",
    "import torchvision.transforms as transforms\n",
    "import numpy as np\n",
    "from random import choices\n",
    "from matplotlib import pyplot as plt"
   ]
  },
  {
   "cell_type": "code",
   "execution_count": 2,
   "metadata": {},
   "outputs": [],
   "source": [
    "PARAMS = {'batch_size': 512,\n",
    "          'zdim': 2,\n",
    "          'gamma':0.5,\n",
    "          'beta1':0.5,\n",
    "          'beta2':0.999,\n",
    "          'epochs':20,\n",
    "          'lr_d':2e-4,\n",
    "          'lr_g': 15e-4,\n",
    "          'epsilon': 1e-8,  # for avoiding numerical instabilities\n",
    "          'samp_num_gen': 2500}"
   ]
  },
  {
   "cell_type": "code",
   "execution_count": 3,
   "metadata": {},
   "outputs": [],
   "source": [
    "training_data = load_db()\n",
    "train_dataset = NumpyDataset(training_data)\n",
    "train_loader = torch.utils.data.DataLoader(dataset=train_dataset,\n",
    "                                           batch_size=PARAMS['batch_size'],\n",
    "                                           shuffle=True)"
   ]
  },
  {
   "cell_type": "code",
   "execution_count": 4,
   "metadata": {},
   "outputs": [
    {
     "data": {
      "image/png": "[encoded data removed]",
      "text/plain": [
       "<Figure size 432x288 with 1 Axes>"
      ]
     },
     "metadata": {
      "needs_background": "light"
     },
     "output_type": "display_data"
    }
   ],
   "source": [
    "from matplotlib import pyplot as plt\n",
    "\n",
    "plt.plot(training_data[:, 0], training_data[:, 1], 'o',label='real data')\n",
    "plt.show()"
   ]
  },
  {
   "cell_type": "code",
   "execution_count": 5,
   "metadata": {},
   "outputs": [],
   "source": [
    "class Generator(nn.Module):\n",
    "    def __init__(self):\n",
    "        super(Generator, self).__init__()\n",
    "\n",
    "        def block(in_feat, out_feat, normalize=True):\n",
    "            layers = [nn.Linear(in_feat, out_feat)]\n",
    "            if normalize:\n",
    "                layers.append(nn.BatchNorm1d(out_feat, 0.8))\n",
    "            layers.append(nn.LeakyReLU(0.2, inplace=True))\n",
    "            return layers\n",
    "\n",
    "        self.model = nn.Sequential(\n",
    "            *block(PARAMS['zdim'], 128, normalize=False),\n",
    "            *block(128, 256),\n",
    "            *block(256, 512),\n",
    "            *block(512, 1024),\n",
    "            nn.Linear(1024, 2),\n",
    "            nn.Tanh()\n",
    "        )\n",
    "\n",
    "    def forward(self, z):\n",
    "        img = self.model(z)\n",
    "        img = img.view(img.size(0), 2)\n",
    "        return img\n",
    "\n",
    "    def save(self, name):\n",
    "        torch.save(self.model.state_dict(), name)\n",
    "\n",
    "    def load(self):\n",
    "        self.model.load_state_dict(torch.load(\"./checkpoints/generator_0\"))\n",
    "\n",
    "\n",
    "class Discriminator(nn.Module):\n",
    "    def __init__(self):\n",
    "        super(Discriminator, self).__init__()\n",
    "\n",
    "        self.model = nn.Sequential(\n",
    "            nn.Linear(2, 512),\n",
    "            nn.LeakyReLU(0.2, inplace=True),\n",
    "            nn.Linear(512, 256),\n",
    "            nn.LeakyReLU(0.2, inplace=True),\n",
    "            nn.Linear(256, 1),\n",
    "            nn.Sigmoid(),\n",
    "        )\n",
    "\n",
    "    def forward(self, img):\n",
    "        img_flat = img.view(img.size(0), -1)\n",
    "        validity = self.model(img_flat)\n",
    "\n",
    "        return validity\n",
    "\n",
    "    def save(self, name):\n",
    "        torch.save(self.model.state_dict(), name)\n",
    "\n",
    "    def load(self):\n",
    "        self.model.load_state_dict(torch.load(\"./checkpoints/discriminator_0\"))\n",
    "\n",
    "\n",
    "def sample_from_distribution(distribution):\n",
    "    return Categorical(distribution).sample(sample_shape=torch.Size)\n"
   ]
  },
  {
   "cell_type": "code",
   "execution_count": 6,
   "metadata": {},
   "outputs": [
    {
     "ename": "NameError",
     "evalue": "name 'Tensor' is not defined",
     "output_type": "error",
     "traceback": [
      "\u001b[1;31m---------------------------------------------------------------------------\u001b[0m",
      "\u001b[1;31mNameError\u001b[0m                                 Traceback (most recent call last)",
      "\u001b[1;32m<ipython-input-6-3f027540e750>\u001b[0m in \u001b[0;36m<module>\u001b[1;34m\u001b[0m\n\u001b[0;32m      1\u001b[0m \u001b[0mcuda\u001b[0m \u001b[1;33m=\u001b[0m \u001b[1;32mTrue\u001b[0m \u001b[1;32mif\u001b[0m \u001b[0mtorch\u001b[0m\u001b[1;33m.\u001b[0m\u001b[0mcuda\u001b[0m\u001b[1;33m.\u001b[0m\u001b[0mis_available\u001b[0m\u001b[1;33m(\u001b[0m\u001b[1;33m)\u001b[0m \u001b[1;32melse\u001b[0m \u001b[1;32mFalse\u001b[0m\u001b[1;33m\u001b[0m\u001b[1;33m\u001b[0m\u001b[0m\n\u001b[1;32m----> 2\u001b[1;33m \u001b[0mfixed_z\u001b[0m \u001b[1;33m=\u001b[0m \u001b[0mTensor\u001b[0m\u001b[1;33m(\u001b[0m\u001b[0mnp\u001b[0m\u001b[1;33m.\u001b[0m\u001b[0mrandom\u001b[0m\u001b[1;33m.\u001b[0m\u001b[0mnormal\u001b[0m\u001b[1;33m(\u001b[0m\u001b[1;36m0\u001b[0m\u001b[1;33m,\u001b[0m \u001b[1;36m1\u001b[0m\u001b[1;33m,\u001b[0m \u001b[1;33m(\u001b[0m\u001b[1;36m512\u001b[0m\u001b[1;33m,\u001b[0m \u001b[0mPARAMS\u001b[0m\u001b[1;33m[\u001b[0m\u001b[1;34m'zdim'\u001b[0m\u001b[1;33m]\u001b[0m\u001b[1;33m)\u001b[0m\u001b[1;33m)\u001b[0m\u001b[1;33m)\u001b[0m\u001b[1;33m.\u001b[0m\u001b[0mcuda\u001b[0m\u001b[1;33m(\u001b[0m\u001b[1;33m)\u001b[0m\u001b[1;33m\u001b[0m\u001b[1;33m\u001b[0m\u001b[0m\n\u001b[0m\u001b[0;32m      3\u001b[0m \u001b[0mgenerator\u001b[0m \u001b[1;33m=\u001b[0m \u001b[0mGenerator\u001b[0m\u001b[1;33m(\u001b[0m\u001b[1;33m)\u001b[0m\u001b[1;33m.\u001b[0m\u001b[0mcuda\u001b[0m\u001b[1;33m(\u001b[0m\u001b[1;33m)\u001b[0m\u001b[1;33m\u001b[0m\u001b[1;33m\u001b[0m\u001b[0m\n\u001b[0;32m      4\u001b[0m \u001b[0mdiscriminator\u001b[0m \u001b[1;33m=\u001b[0m \u001b[0mDiscriminator\u001b[0m\u001b[1;33m(\u001b[0m\u001b[1;33m)\u001b[0m\u001b[1;33m.\u001b[0m\u001b[0mcuda\u001b[0m\u001b[1;33m(\u001b[0m\u001b[1;33m)\u001b[0m\u001b[1;33m\u001b[0m\u001b[1;33m\u001b[0m\u001b[0m\n\u001b[0;32m      5\u001b[0m \u001b[0madversarial_loss\u001b[0m \u001b[1;33m=\u001b[0m \u001b[0mtorch\u001b[0m\u001b[1;33m.\u001b[0m\u001b[0mnn\u001b[0m\u001b[1;33m.\u001b[0m\u001b[0mBCELoss\u001b[0m\u001b[1;33m(\u001b[0m\u001b[1;33m)\u001b[0m\u001b[1;33m.\u001b[0m\u001b[0mcuda\u001b[0m\u001b[1;33m(\u001b[0m\u001b[1;33m)\u001b[0m\u001b[1;33m\u001b[0m\u001b[1;33m\u001b[0m\u001b[0m\n",
      "\u001b[1;31mNameError\u001b[0m: name 'Tensor' is not defined"
     ]
    }
   ],
   "source": [
    "cuda = True if torch.cuda.is_available() else False\n",
    "fixed_z = Tensor(np.random.normal(0, 1, (512, PARAMS['zdim']))).cuda()\n",
    "generator = Generator().cuda()\n",
    "discriminator = Discriminator().cuda()\n",
    "adversarial_loss = torch.nn.BCELoss().cuda()\n",
    "for iter in range(1000):\n",
    "    for data in train_loader:\n",
    "        Tensor = torch.FloatTensor\n",
    "        device = torch.device(\"cuda\" if torch.cuda.is_available() else \"cpu\")\n",
    "        valid = Tensor(data.size(0), 1).fill_(1.0).requires_grad_(False).to(device)\n",
    "        optimizer_G = torch.optim.Adam(generator.parameters(), lr=PARAMS['lr_g'], betas=(PARAMS['beta1'], PARAMS['beta2']))\n",
    "\n",
    "        optimizer_G.zero_grad()\n",
    "        z = Tensor(np.random.normal(0, 1, (data.shape[0], PARAMS['zdim']))).to(device)\n",
    "        gen_imgs = generator(z).to(device)\n",
    "        d_res = discriminator(gen_imgs).to(device)\n",
    "        # Loss measures generator's ability to fool the discriminator\n",
    "        g_loss = adversarial_loss(d_res, valid).to(device)  # * discriminator_distribution[d_index]\n",
    "        g_loss.backward()\n",
    "        optimizer_G.step()\n",
    "        \n",
    "        optimizer_TD = torch.optim.Adam(discriminator.parameters(), lr=PARAMS['lr_g'], betas=(PARAMS['beta1'], PARAMS['beta2']))\n",
    "    \n",
    "        valid = Tensor(data.size(0), 1).fill_(1.0).requires_grad_(False).to(device)\n",
    "        fake = Tensor(data.size(0), 1).fill_(0.0).requires_grad_(False).to(device)\n",
    "\n",
    "        real_imgs = data.clone().detach().to(device)\n",
    "\n",
    "        optimizer_TD.zero_grad()\n",
    "        gen_imgs = generator(z).to(device)\n",
    "        real_loss = adversarial_loss(discriminator(real_imgs).to(device), valid)\n",
    "        # Measure discriminator's ability to classify real from generated samples\n",
    "        fake_loss = adversarial_loss(discriminator(gen_imgs.detach()).to(device), fake) \n",
    "        d_loss = (real_loss + fake_loss)\n",
    "        d_loss.backward()\n",
    "        optimizer_TD.step()\n",
    "        \n",
    "        if iter % 100==0:\n",
    "            g_gen_img = generator(fixed_z).cpu().detach().numpy()\n",
    "            plt.plot(data[:, 0], data[:, 1], 'o',label='real data')\n",
    "            plt.plot(g_gen_img[:, 0], g_gen_img[:, 1], 'o',label='real data')\n",
    "            plt.show()"
   ]
  },
  {
   "cell_type": "code",
   "execution_count": 7,
   "metadata": {},
   "outputs": [],
   "source": [
    "def generator_oracle(data, generator, discriminator, d_dist, discriminator_list, epoch):\n",
    "    Tensor = torch.FloatTensor\n",
    "    device = torch.device(\"cuda\" if torch.cuda.is_available() else \"cpu\")\n",
    "    valid = Tensor(data.size(0), 1).fill_(1.0).requires_grad_(False).to(device)\n",
    "    optimizer_G = torch.optim.Adam(generator.parameters(), lr=PARAMS['lr_g'], betas=(PARAMS['beta1'], PARAMS['beta2']))\n",
    "    \n",
    "    for d_index in range(len(d_dist)):\n",
    "#         if epoch > 2 and epoch % 3 == d_index:\n",
    "#             continue\n",
    "        if d_dist[d_index] == 0:\n",
    "            continue\n",
    "        z = Tensor(np.random.normal(0, 1, (data.shape[0], PARAMS['zdim']))).to(device)\n",
    "        gen_imgs = generator(z).to(device)\n",
    "        optimizer_G.zero_grad()\n",
    "        D = discriminator_list[d_index].cuda()\n",
    "        unrolled_steps = 5\n",
    "        if unrolled_steps > 0:\n",
    "            torch.save(D.model.state_dict(), \"backup.pth\")\n",
    "            for i in range(unrolled_steps):\n",
    "                discriminator_unrolled(generator, D, data, z)\n",
    "        d_res = D(gen_imgs).to(device)\n",
    "        # Loss measures generator's ability to fool the discriminator\n",
    "        g_loss = adversarial_loss(d_res, valid).to(device)  *0.5 * d_dist[d_index] \n",
    "        g_loss.backward()\n",
    "        optimizer_G.step()\n",
    "        if unrolled_steps > 0:\n",
    "            D.model.load_state_dict(torch.load(\"backup.pth\"))\n",
    "                                                                     \n",
    "    optimizer_G.zero_grad()\n",
    "    z = Tensor(np.random.normal(0, 1, (data.shape[0], PARAMS['zdim']))).to(device)\n",
    "    gen_imgs = generator(z).to(device)\n",
    "    unrolled_steps = 5\n",
    "    if unrolled_steps > 0:\n",
    "        torch.save(discriminator.model.state_dict(), \"backup.pth\")\n",
    "        for i in range(unrolled_steps):\n",
    "            discriminator_unrolled(generator, discriminator, data, z)\n",
    "    d_res = discriminator(gen_imgs).to(device) \n",
    "    # Loss measures generator's ability to fool the discriminator\n",
    "    g_loss = adversarial_loss(d_res, valid).to(device) * 0.5  # * discriminator_distribution[d_index]\n",
    "    g_loss.backward()\n",
    "    optimizer_G.step()\n",
    "    if unrolled_steps > 0:\n",
    "        discriminator.model.load_state_dict(torch.load(\"backup.pth\"))\n",
    "    return generator\n",
    "\n",
    "def discriminator_oracle(data, generator, discriminator, g_dist, generator_list, epoch):\n",
    "    Tensor = torch.FloatTensor\n",
    "    device = torch.device(\"cuda\" if torch.cuda.is_available() else \"cpu\")\n",
    "    optimizer_TD = torch.optim.Adam(discriminator.parameters(), lr=PARAMS['lr_g'], betas=(PARAMS['beta1'], PARAMS['beta2']))\n",
    "    \n",
    "    valid = Tensor(data.size(0), 1).fill_(1.0).requires_grad_(False).to(device)\n",
    "    fake = Tensor(data.size(0), 1).fill_(0.0).requires_grad_(False).to(device)\n",
    "    \n",
    "    real_imgs = data.clone().detach().to(device)\n",
    "    \n",
    "    optimizer_TD.zero_grad()\n",
    "    for g in range(len(g_dist)):\n",
    "#         if epoch > 2 and g == epoch % 3:\n",
    "#             continue\n",
    "        if g_dist[g] == 0:\n",
    "            continue\n",
    "        G = generator_list[g].cuda()\n",
    "        z = Tensor(np.random.normal(0, 1, (data.shape[0], PARAMS['zdim']))).to(device)\n",
    "        gen_imgs = G(z).to(device)\n",
    "        real_loss = adversarial_loss(discriminator(real_imgs).to(device), valid)\n",
    "        # Measure discriminator's ability to classify real from generated samples\n",
    "        fake_loss = adversarial_loss(discriminator(gen_imgs.detach()).to(device), fake) \n",
    "        d_loss = (real_loss + fake_loss) * g_dist[g] * 0.5\n",
    "        d_loss.backward()\n",
    "        optimizer_TD.step()\n",
    "    \n",
    "    z = Tensor(np.random.normal(0, 1, (data.shape[0], PARAMS['zdim']))).to(device)\n",
    "    gen_imgs = generator(z).to(device)\n",
    "    real_loss = adversarial_loss(discriminator(real_imgs).to(device), valid)\n",
    "    # Measure discriminator's ability to classify real from generated samples\n",
    "    fake_loss = adversarial_loss(discriminator(gen_imgs.detach()).to(device), fake) \n",
    "    d_loss = (real_loss + fake_loss) * 0.5\n",
    "    d_loss.backward()\n",
    "    optimizer_TD.step()\n",
    "    return discriminator\n",
    "\n",
    "def discriminator_unrolled(generator, discriminator, imgs, d_gen_input=None):\n",
    "    optimizer_D = torch.optim.Adam(discriminator.parameters(), lr=PARAMS['lr_d'], betas=(PARAMS['beta1'], PARAMS['beta2']))\n",
    "    # Tensor = torch.cuda.FloatTensor if cuda else torch.FloatTensor\n",
    "    Tensor = torch.FloatTensor\n",
    "    device = torch.device(\"cuda\" if torch.cuda.is_available() else \"cpu\")\n",
    "\n",
    "    optimizer_D.zero_grad()\n",
    "    real_imgs = imgs.clone().detach().to(device)\n",
    "    valid = Tensor(imgs.size(0), 1).fill_(1.0).requires_grad_(False).to(device)\n",
    "    fake = Tensor(imgs.size(0), 1).fill_(0.0).requires_grad_(False).to(device)\n",
    "\n",
    "    # Measure discriminator's ability to classify real from generated samples\n",
    "    real_loss = adversarial_loss(discriminator(real_imgs).to(device), valid)\n",
    "    if d_gen_input is None:\n",
    "        # Sample noise as generator input\n",
    "        d_gen_input = Tensor(np.random.normal(0, 1, (imgs.shape[0], opt.latent_dim))).to(device)\n",
    "        # Generate a batch of images\n",
    "    gen_imgs = generator(d_gen_input).to(device)\n",
    "    fake_loss = adversarial_loss(discriminator(gen_imgs.detach()).to(device), fake)\n",
    "    d_loss = (real_loss + fake_loss) / 2\n",
    "    d_loss.backward()\n",
    "    optimizer_D.step()"
   ]
  },
  {
   "cell_type": "code",
   "execution_count": 8,
   "metadata": {},
   "outputs": [],
   "source": [
    "adversarial_loss = torch.nn.BCELoss().cuda()"
   ]
  },
  {
   "cell_type": "code",
   "execution_count": 9,
   "metadata": {},
   "outputs": [],
   "source": [
    "def calculate_payoff(G,D):\n",
    "    Tensor = torch.FloatTensor\n",
    "    device = torch.device(\"cuda\" if torch.cuda.is_available() else \"cpu\")\n",
    "    G.cuda()\n",
    "    D.cuda()\n",
    "    for i in train_loader:\n",
    "        valid = Tensor(PARAMS['batch_size'], 1).fill_(1.0).requires_grad_(False).to(device)\n",
    "        fake = Tensor(PARAMS['batch_size'], 1).fill_(0.0).requires_grad_(False).to(device)\n",
    "\n",
    "        real_imgs = i.clone().detach().to(device)\n",
    "        \n",
    "        \n",
    "        z = Tensor(np.random.normal(0, 1, (PARAMS['batch_size'], PARAMS['zdim']))).to(device)\n",
    "        gen_imgs = G(z).to(device)\n",
    "        \n",
    "        real_loss = adversarial_loss(D(real_imgs).to(device), valid)\n",
    "        # Measure discriminator's ability to classify real from generated samples\n",
    "        fake_loss = adversarial_loss(D(gen_imgs.detach()).to(device), fake) \n",
    "        d_loss = (real_loss + fake_loss).detach().cpu().clone()\n",
    "        \n",
    "        g_loss = adversarial_loss(D(gen_imgs.detach()).to(device), valid).detach().cpu().clone()\n",
    "        break\n",
    "    return d_loss"
   ]
  },
  {
   "cell_type": "code",
   "execution_count": 10,
   "metadata": {},
   "outputs": [
    {
     "data": {
      "text/plain": [
       "tensor(1.3892)"
      ]
     },
     "execution_count": 10,
     "metadata": {},
     "output_type": "execute_result"
    }
   ],
   "source": [
    "generator = Generator().cuda()\n",
    "discriminator = Discriminator().cuda()\n",
    "calculate_payoff(generator, discriminator)"
   ]
  },
  {
   "cell_type": "code",
   "execution_count": 11,
   "metadata": {},
   "outputs": [],
   "source": [
    "def augment_calculate_missing_entries(meta_matrix, generator_list, discriminator_list):\n",
    "    meta_matrix = np.zeros((len(generator_list), len(discriminator_list)))\n",
    "    for i in range(len(generator_list)):\n",
    "        for j in range(len(discriminator_list)):\n",
    "            meta_matrix[i][j] = calculate_payoff(generator_list[i], discriminator_list[j])\n",
    "    return meta_matrix\n",
    "#     if len(generator_list)==1 and len(discriminator_list)==1:\n",
    "#         meta_matrix[0][0] = calculate_payoff(generator_list[0], discriminator_list[0])\n",
    "#     else:\n",
    "#         num_generator = len(generator_list)-1\n",
    "#         aug_col = np.zeros((num_generator, 1))\n",
    "#         for gen in range(num_generator):\n",
    "#             g = generator_list[gen].cuda()\n",
    "#             aug_col[gen] = calculate_payoff(g, discriminator_list[-1])\n",
    "#         meta_matrix = np.column_stack((meta_matrix, aug_col))\n",
    "        \n",
    "#         num_discriminator = len(discriminator_list)\n",
    "#         aug_row = np.zeros((num_discriminator, 1))\n",
    "#         for dis in range(num_discriminator):\n",
    "#             discriminator = discriminator_list[dis].cuda()\n",
    "#         aug_row[dis] = calculate_payoff(generator_list[-1], discriminator).detach().cpu().clone()\n",
    "#         aug_row = aug_row.transpose()\n",
    "#         meta_matrix = np.row_stack((meta_matrix, aug_row))\n",
    "#     return meta_matrix"
   ]
  },
  {
   "cell_type": "code",
   "execution_count": 12,
   "metadata": {},
   "outputs": [],
   "source": [
    "from operator import add, neg\n",
    "def NE_solver(payoff_matrix, iterations=100):\n",
    "    'Return the oddments (mixed strategy ratios) for a given payoff matrix'\n",
    "    transpose = list(zip(*payoff_matrix))\n",
    "    numrows = len(payoff_matrix)\n",
    "    numcols = len(transpose)\n",
    "    row_cum_payoff = [0] * numrows\n",
    "    col_cum_payoff = [0] * numcols\n",
    "    colpos = list(range(numcols))\n",
    "    rowpos = list(map(neg, range(numrows)))\n",
    "    colcnt = [0] * numcols\n",
    "    rowcnt = [0] * numrows\n",
    "    active = 0\n",
    "    for i in range(iterations):\n",
    "        rowcnt[active] += 1\n",
    "        col_cum_payoff = list(map(add, payoff_matrix[active], col_cum_payoff))\n",
    "        active = min(list(zip(col_cum_payoff, colpos)))[1]\n",
    "        colcnt[active] += 1\n",
    "        row_cum_payoff = list(map(add, transpose[active], row_cum_payoff))\n",
    "        active = -max(list(zip(row_cum_payoff, rowpos)))[1]\n",
    "    value_of_game = (max(row_cum_payoff) + min(col_cum_payoff)) / 2.0 / iterations\n",
    "    return np.array([i/100 for i in rowcnt], dtype=float), np.array([i/100 for i in colcnt], dtype=float)"
   ]
  },
  {
   "cell_type": "code",
   "execution_count": 16,
   "metadata": {},
   "outputs": [],
   "source": [
    "cuda = True if torch.cuda.is_available() else False\n",
    "g_samples = []\n",
    "Tensor = torch.FloatTensor\n",
    "fixed_z = Tensor(np.random.normal(0, 1, (512, PARAMS['zdim']))).cuda()\n",
    "generator_list = []\n",
    "discriminator_list = []\n",
    "generator_list.append(Generator())\n",
    "discriminator_list.append(Discriminator())\n",
    "g_dist = []\n",
    "d_dist = []\n",
    "global dataset\n",
    "for d in train_loader:\n",
    "    dataset = d\n",
    "    break\n",
    "g_samples.append(generator_list[0].cuda()(fixed_z).cpu().detach().numpy())\n",
    "for iter in range(100):\n",
    "    for d in train_loader:\n",
    "        generator_list[0] = generator_oracle(d, generator_list[0].cuda(), discriminator_list[0].cuda(), d_dist, discriminator_list, 3)\n",
    "        discriminator_list[0] = discriminator_oracle(d, generator_list[0].cuda(), discriminator_list[0].cuda(), g_dist, generator_list, 3)\n",
    "g_dist = [1]\n",
    "d_dist = [1]"
   ]
  },
  {
   "cell_type": "code",
   "execution_count": 17,
   "metadata": {},
   "outputs": [
    {
     "name": "stderr",
     "output_type": "stream",
     "text": [
      "\n",
      "\n",
      "  0%|                                                                                          | 0/100 [00:00<?, ?it/s]"
     ]
    },
    {
     "name": "stdout",
     "output_type": "stream",
     "text": [
      "[1. 0.]\n"
     ]
    },
    {
     "data": {
      "image/png": "[encoded data removed]",
      "text/plain": [
       "<Figure size 432x288 with 1 Axes>"
      ]
     },
     "metadata": {
      "needs_background": "light"
     },
     "output_type": "display_data"
    },
    {
     "name": "stderr",
     "output_type": "stream",
     "text": [
      "\n",
      "\n",
      "  1%|▊                                                                               | 1/100 [00:54<1:30:33, 54.88s/it]"
     ]
    },
    {
     "name": "stdout",
     "output_type": "stream",
     "text": [
      "[0.01 0.1  0.89]\n"
     ]
    },
    {
     "data": {
      "image/png": "[encoded data removed]",
      "text/plain": [
       "<Figure size 432x288 with 1 Axes>"
      ]
     },
     "metadata": {
      "needs_background": "light"
     },
     "output_type": "display_data"
    },
    {
     "name": "stderr",
     "output_type": "stream",
     "text": [
      "\n",
      "\n",
      "  2%|█▌                                                                              | 2/100 [01:49<1:29:32, 54.82s/it]"
     ]
    },
    {
     "name": "stdout",
     "output_type": "stream",
     "text": [
      "[0.01 0.11 0.88 0.  ]\n"
     ]
    },
    {
     "data": {
      "image/png": "[encoded data removed]",
      "text/plain": [
       "<Figure size 432x288 with 1 Axes>"
      ]
     },
     "metadata": {
      "needs_background": "light"
     },
     "output_type": "display_data"
    },
    {
     "name": "stderr",
     "output_type": "stream",
     "text": [
      "\n",
      "\n",
      "  3%|██▍                                                                             | 3/100 [03:13<1:42:54, 63.65s/it]"
     ]
    },
    {
     "name": "stdout",
     "output_type": "stream",
     "text": [
      "[0.01 0.   0.72 0.   0.27]\n"
     ]
    },
    {
     "data": {
      "image/png": "[encoded data removed]",
      "text/plain": [
       "<Figure size 432x288 with 1 Axes>"
      ]
     },
     "metadata": {
      "needs_background": "light"
     },
     "output_type": "display_data"
    },
    {
     "name": "stderr",
     "output_type": "stream",
     "text": [
      "\n",
      "\n",
      "  4%|███▏                                                                            | 4/100 [04:38<1:51:52, 69.92s/it]"
     ]
    },
    {
     "name": "stdout",
     "output_type": "stream",
     "text": [
      "[0.01 0.   0.08 0.05 0.82 0.04]\n"
     ]
    },
    {
     "data": {
      "image/png": "[encoded data removed]",
      "text/plain": [
       "<Figure size 432x288 with 1 Axes>"
      ]
     },
     "metadata": {
      "needs_background": "light"
     },
     "output_type": "display_data"
    },
    {
     "name": "stderr",
     "output_type": "stream",
     "text": [
      "\n",
      "\n",
      "  5%|████                                                                            | 5/100 [06:03<1:57:48, 74.41s/it]"
     ]
    },
    {
     "name": "stdout",
     "output_type": "stream",
     "text": [
      "[0.01 0.   0.   0.87 0.   0.   0.12]\n"
     ]
    },
    {
     "data": {
      "image/png": "[encoded data removed]",
      "text/plain": [
       "<Figure size 432x288 with 1 Axes>"
      ]
     },
     "metadata": {
      "needs_background": "light"
     },
     "output_type": "display_data"
    },
    {
     "name": "stderr",
     "output_type": "stream",
     "text": [
      "\n",
      "\n",
      "  6%|████▊                                                                           | 6/100 [08:00<2:16:32, 87.15s/it]"
     ]
    },
    {
     "ename": "EOFError",
     "evalue": "Ran out of input",
     "output_type": "error",
     "traceback": [
      "\u001b[1;31m---------------------------------------------------------------------------\u001b[0m",
      "\u001b[1;31mEOFError\u001b[0m                                  Traceback (most recent call last)",
      "\u001b[1;32m<ipython-input-17-9639237e2aef>\u001b[0m in \u001b[0;36m<module>\u001b[1;34m\u001b[0m\n\u001b[0;32m     23\u001b[0m     \u001b[1;32mfor\u001b[0m \u001b[0miter\u001b[0m \u001b[1;32min\u001b[0m \u001b[0mrange\u001b[0m\u001b[1;33m(\u001b[0m\u001b[1;36m500\u001b[0m\u001b[1;33m)\u001b[0m\u001b[1;33m:\u001b[0m\u001b[1;33m\u001b[0m\u001b[1;33m\u001b[0m\u001b[0m\n\u001b[0;32m     24\u001b[0m         \u001b[1;32mfor\u001b[0m \u001b[0md\u001b[0m \u001b[1;32min\u001b[0m \u001b[0mtrain_loader\u001b[0m\u001b[1;33m:\u001b[0m\u001b[1;33m\u001b[0m\u001b[1;33m\u001b[0m\u001b[0m\n\u001b[1;32m---> 25\u001b[1;33m             \u001b[0mG\u001b[0m \u001b[1;33m=\u001b[0m \u001b[0mgenerator_oracle\u001b[0m\u001b[1;33m(\u001b[0m\u001b[0md\u001b[0m\u001b[1;33m,\u001b[0m \u001b[0mG\u001b[0m\u001b[1;33m,\u001b[0m \u001b[0mD\u001b[0m\u001b[1;33m,\u001b[0m \u001b[0md_dist\u001b[0m\u001b[1;33m,\u001b[0m \u001b[0mdiscriminator_list\u001b[0m\u001b[1;33m,\u001b[0m \u001b[0mepoch\u001b[0m\u001b[1;33m)\u001b[0m\u001b[1;33m\u001b[0m\u001b[1;33m\u001b[0m\u001b[0m\n\u001b[0m\u001b[0;32m     26\u001b[0m \u001b[1;33m\u001b[0m\u001b[0m\n\u001b[0;32m     27\u001b[0m \u001b[1;33m\u001b[0m\u001b[0m\n",
      "\u001b[1;32m<ipython-input-7-568545ddbb53>\u001b[0m in \u001b[0;36mgenerator_oracle\u001b[1;34m(data, generator, discriminator, d_dist, discriminator_list, epoch)\u001b[0m\n\u001b[0;32m     25\u001b[0m         \u001b[0moptimizer_G\u001b[0m\u001b[1;33m.\u001b[0m\u001b[0mstep\u001b[0m\u001b[1;33m(\u001b[0m\u001b[1;33m)\u001b[0m\u001b[1;33m\u001b[0m\u001b[1;33m\u001b[0m\u001b[0m\n\u001b[0;32m     26\u001b[0m         \u001b[1;32mif\u001b[0m \u001b[0munrolled_steps\u001b[0m \u001b[1;33m>\u001b[0m \u001b[1;36m0\u001b[0m\u001b[1;33m:\u001b[0m\u001b[1;33m\u001b[0m\u001b[1;33m\u001b[0m\u001b[0m\n\u001b[1;32m---> 27\u001b[1;33m             \u001b[0mD\u001b[0m\u001b[1;33m.\u001b[0m\u001b[0mmodel\u001b[0m\u001b[1;33m.\u001b[0m\u001b[0mload_state_dict\u001b[0m\u001b[1;33m(\u001b[0m\u001b[0mtorch\u001b[0m\u001b[1;33m.\u001b[0m\u001b[0mload\u001b[0m\u001b[1;33m(\u001b[0m\u001b[1;34m\"backup.pth\"\u001b[0m\u001b[1;33m)\u001b[0m\u001b[1;33m)\u001b[0m\u001b[1;33m\u001b[0m\u001b[1;33m\u001b[0m\u001b[0m\n\u001b[0m\u001b[0;32m     28\u001b[0m \u001b[1;33m\u001b[0m\u001b[0m\n\u001b[0;32m     29\u001b[0m     \u001b[0moptimizer_G\u001b[0m\u001b[1;33m.\u001b[0m\u001b[0mzero_grad\u001b[0m\u001b[1;33m(\u001b[0m\u001b[1;33m)\u001b[0m\u001b[1;33m\u001b[0m\u001b[1;33m\u001b[0m\u001b[0m\n",
      "\u001b[1;32m~\\Anaconda3\\envs\\reinforcement_learning_env\\lib\\site-packages\\torch\\serialization.py\u001b[0m in \u001b[0;36mload\u001b[1;34m(f, map_location, pickle_module, **pickle_load_args)\u001b[0m\n\u001b[0;32m    384\u001b[0m         \u001b[0mf\u001b[0m \u001b[1;33m=\u001b[0m \u001b[0mf\u001b[0m\u001b[1;33m.\u001b[0m\u001b[0mopen\u001b[0m\u001b[1;33m(\u001b[0m\u001b[1;34m'rb'\u001b[0m\u001b[1;33m)\u001b[0m\u001b[1;33m\u001b[0m\u001b[1;33m\u001b[0m\u001b[0m\n\u001b[0;32m    385\u001b[0m     \u001b[1;32mtry\u001b[0m\u001b[1;33m:\u001b[0m\u001b[1;33m\u001b[0m\u001b[1;33m\u001b[0m\u001b[0m\n\u001b[1;32m--> 386\u001b[1;33m         \u001b[1;32mreturn\u001b[0m \u001b[0m_load\u001b[0m\u001b[1;33m(\u001b[0m\u001b[0mf\u001b[0m\u001b[1;33m,\u001b[0m \u001b[0mmap_location\u001b[0m\u001b[1;33m,\u001b[0m \u001b[0mpickle_module\u001b[0m\u001b[1;33m,\u001b[0m \u001b[1;33m**\u001b[0m\u001b[0mpickle_load_args\u001b[0m\u001b[1;33m)\u001b[0m\u001b[1;33m\u001b[0m\u001b[1;33m\u001b[0m\u001b[0m\n\u001b[0m\u001b[0;32m    387\u001b[0m     \u001b[1;32mfinally\u001b[0m\u001b[1;33m:\u001b[0m\u001b[1;33m\u001b[0m\u001b[1;33m\u001b[0m\u001b[0m\n\u001b[0;32m    388\u001b[0m         \u001b[1;32mif\u001b[0m \u001b[0mnew_fd\u001b[0m\u001b[1;33m:\u001b[0m\u001b[1;33m\u001b[0m\u001b[1;33m\u001b[0m\u001b[0m\n",
      "\u001b[1;32m~\\Anaconda3\\envs\\reinforcement_learning_env\\lib\\site-packages\\torch\\serialization.py\u001b[0m in \u001b[0;36m_load\u001b[1;34m(f, map_location, pickle_module, **pickle_load_args)\u001b[0m\n\u001b[0;32m    561\u001b[0m             \u001b[0mf\u001b[0m\u001b[1;33m.\u001b[0m\u001b[0mseek\u001b[0m\u001b[1;33m(\u001b[0m\u001b[1;36m0\u001b[0m\u001b[1;33m)\u001b[0m\u001b[1;33m\u001b[0m\u001b[1;33m\u001b[0m\u001b[0m\n\u001b[0;32m    562\u001b[0m \u001b[1;33m\u001b[0m\u001b[0m\n\u001b[1;32m--> 563\u001b[1;33m     \u001b[0mmagic_number\u001b[0m \u001b[1;33m=\u001b[0m \u001b[0mpickle_module\u001b[0m\u001b[1;33m.\u001b[0m\u001b[0mload\u001b[0m\u001b[1;33m(\u001b[0m\u001b[0mf\u001b[0m\u001b[1;33m,\u001b[0m \u001b[1;33m**\u001b[0m\u001b[0mpickle_load_args\u001b[0m\u001b[1;33m)\u001b[0m\u001b[1;33m\u001b[0m\u001b[1;33m\u001b[0m\u001b[0m\n\u001b[0m\u001b[0;32m    564\u001b[0m     \u001b[1;32mif\u001b[0m \u001b[0mmagic_number\u001b[0m \u001b[1;33m!=\u001b[0m \u001b[0mMAGIC_NUMBER\u001b[0m\u001b[1;33m:\u001b[0m\u001b[1;33m\u001b[0m\u001b[1;33m\u001b[0m\u001b[0m\n\u001b[0;32m    565\u001b[0m         \u001b[1;32mraise\u001b[0m \u001b[0mRuntimeError\u001b[0m\u001b[1;33m(\u001b[0m\u001b[1;34m\"Invalid magic number; corrupt file?\"\u001b[0m\u001b[1;33m)\u001b[0m\u001b[1;33m\u001b[0m\u001b[1;33m\u001b[0m\u001b[0m\n",
      "\u001b[1;31mEOFError\u001b[0m: Ran out of input"
     ]
    }
   ],
   "source": [
    "meta_matrix = np.zeros((1,1))\n",
    "meta_matrix = augment_calculate_missing_entries(meta_matrix, generator_list, discriminator_list)\n",
    "# Start Training Loop\n",
    "for epoch in tqdm(range(100)): #PARAMS['epochs'])):\n",
    "#     if epoch > 2:\n",
    "#         G = generator_list[epoch %3]\n",
    "#         D = discriminator_list[epoch%3]\n",
    "#     else:\n",
    "    G = Generator()\n",
    "    D = Discriminator()\n",
    "    if cuda:\n",
    "        G.cuda()\n",
    "        D.cuda()\n",
    "#         generator_list.append(G)\n",
    "        \n",
    "#     G = generator_list[0].cuda()\n",
    "#     D = discriminator_list[0].cuda()\n",
    "    \n",
    "#     D = discriminator_list[0]\n",
    "    for iter in range(500):\n",
    "        for d in train_loader:\n",
    "            D = discriminator_oracle(d, G, D, g_dist, generator_list, epoch)\n",
    "    for iter in range(500):\n",
    "        for d in train_loader:\n",
    "            G = generator_oracle(d, G, D, d_dist, discriminator_list, epoch)\n",
    "    \n",
    "    \n",
    "    \n",
    "#     if epoch ==2:\n",
    "#         generator_list[0] = G\n",
    "#     elif epoch > 2:\n",
    "#         generator_list[epoch % 3] = G\n",
    "#     else:\n",
    "    generator_list.append(G)\n",
    "#     discriminator_list[0] = D\n",
    "#     if epoch ==2:\n",
    "#         discriminator_list[0] = D\n",
    "#     elif epoch > 2:\n",
    "#         discriminator_list[epoch % 3] = D\n",
    "#     else:\n",
    "    discriminator_list.append(D)\n",
    "    meta_matrix = augment_calculate_missing_entries(meta_matrix, generator_list, discriminator_list)\n",
    "    g_dist, d_dist = NE_solver(meta_matrix)\n",
    "    print(g_dist)\n",
    "    g_sample = []\n",
    "    population = np.arange(0,len(generator_list))\n",
    "    weights = g_dist\n",
    "#     for i in range(len(generator_list)):\n",
    "#         weights.append(1/len(generator_list))\n",
    "    for g in generator_list:\n",
    "        g_sample.append(g(fixed_z).cpu().detach().numpy())\n",
    "    g_gen_img = np.ndarray((512,2))\n",
    "    for i in range(512):\n",
    "        index = choices(population, weights)\n",
    "        g_gen_img[i] = g_sample[index[0]][i]\n",
    "    plt.plot(dataset[:, 0], dataset[:, 1], 'o',label='real data')\n",
    "    \n",
    "#     plt.plot(g_sample[epoch % 3][:, 0], g_sample[epoch % 3][:, 1], 'o',label='real data')\n",
    "#     plt.plot(g_sample[1][:, 0], g_sample[1][:, 1], 'o',label='real data')\n",
    "#     if epoch >2:\n",
    "#         plt.plot(g_sample[2][:, 0], g_sample[2][:, 1], 'o',label='real data')\n",
    "    plt.plot(g_gen_img[:, 0], g_gen_img[:, 1], 'o', label='real data')\n",
    "    plt.show()"
   ]
  },
  {
   "cell_type": "code",
   "execution_count": null,
   "metadata": {},
   "outputs": [],
   "source": [
    "import seaborn as sns\n",
    "np_samples_ = g_samples\n",
    "cols = len(np_samples_)\n",
    "bg_color  = sns.color_palette('Greens', n_colors=256)[0]\n",
    "plt.figure(figsize=(2*5, 2*(cols/5)+1))\n",
    "for i, samps in enumerate(np_samples_):\n",
    "    if i==0:\n",
    "        ax = plt.subplot((cols/5)+1.5,5,1)  \n",
    "        plt.ylabel('DO-GAN')  \n",
    "    else:\n",
    "        plt.subplot((cols/5)+1.5,5,i+1, sharex=ax, sharey=ax)\n",
    "    ax2 = sns.kdeplot(samps[:, 0], samps[:, 1], shade=True, cmap='Greens', n_levels=30, clip=[[-3,3]]*2)\n",
    "    ax2.set_facecolor(bg_color)\n",
    "    plt.xticks([]); plt.yticks([])\n",
    "    plt.title('iteration %d'%(i*1000))\n",
    "plt.gcf().tight_layout()"
   ]
  },
  {
   "cell_type": "code",
   "execution_count": null,
   "metadata": {},
   "outputs": [],
   "source": [
    "G = Generator()\n",
    "G.cuda()\n",
    "Tensor = torch.FloatTensor\n",
    "z = Tensor(np.random.normal(0, 1, (512, PARAMS['zdim']))).cuda()\n",
    "g_samples1 = G(z).cpu().detach().numpy()"
   ]
  },
  {
   "cell_type": "code",
   "execution_count": null,
   "metadata": {},
   "outputs": [],
   "source": [
    "plt.plot(g_samples1[:, 0], g_samples1[:, 1], 'o',label='real data')\n",
    "plt.show()"
   ]
  },
  {
   "cell_type": "code",
   "execution_count": null,
   "metadata": {},
   "outputs": [],
   "source": [
    "plt.plot(g_samples1[0:300, 0], g_samples1[0:300, 1], 'o',label='real data')\n",
    "plt.show()"
   ]
  },
  {
   "cell_type": "code",
   "execution_count": null,
   "metadata": {},
   "outputs": [],
   "source": [
    "g_samples= []\n",
    "g_samples.append(g_samples1[0:300,:])"
   ]
  },
  {
   "cell_type": "code",
   "execution_count": null,
   "metadata": {},
   "outputs": [],
   "source": [
    "G = Generator()\n",
    "G.cuda()\n",
    "Tensor = torch.FloatTensor\n",
    "z = Tensor(np.random.normal(0, 1, (512, PARAMS['zdim']))).cuda()\n",
    "g_samples2 = G(z).cpu().detach().numpy()"
   ]
  },
  {
   "cell_type": "code",
   "execution_count": null,
   "metadata": {},
   "outputs": [],
   "source": [
    "plt.plot(g_samples2[:, 0], g_samples2[:, 1], 'o',label='real data')\n",
    "plt.show()"
   ]
  },
  {
   "cell_type": "code",
   "execution_count": null,
   "metadata": {},
   "outputs": [],
   "source": [
    "plt.plot(g_samples2[301:512, 0], g_samples2[301:512, 1], 'o',label='real data')\n",
    "plt.show()"
   ]
  },
  {
   "cell_type": "code",
   "execution_count": null,
   "metadata": {},
   "outputs": [],
   "source": [
    "g_samples.append(g_samples2[301:512, :])"
   ]
  },
  {
   "cell_type": "code",
   "execution_count": null,
   "metadata": {},
   "outputs": [],
   "source": [
    "g_samples = np.concatenate((, b), axis=0)"
   ]
  },
  {
   "cell_type": "code",
   "execution_count": null,
   "metadata": {},
   "outputs": [],
   "source": [
    "plt.plot(g_samples[:, 0], g_samples[:, 1], 'o',label='real data')\n",
    "plt.show()"
   ]
  },
  {
   "cell_type": "code",
   "execution_count": null,
   "metadata": {},
   "outputs": [],
   "source": [
    "g_samples.squeeze()"
   ]
  },
  {
   "cell_type": "code",
   "execution_count": null,
   "metadata": {},
   "outputs": [],
   "source": [
    "g_samples = np.ndarray((512,2))\n",
    "for i in range(512):\n",
    "    if i < 300:\n",
    "        g_samples[i] = g_samples1[i]\n",
    "    else:\n",
    "        g_samples[i] = g_samples2[i]"
   ]
  },
  {
   "cell_type": "code",
   "execution_count": null,
   "metadata": {},
   "outputs": [],
   "source": [
    "\n",
    "plt.plot(g_samples1[:, 0], g_samples1[:, 1], 'x',label='real data')\n",
    "plt.plot(g_samples2[:, 0], g_samples2[:, 1], 'x',label='real data')\n",
    "plt.plot(g_samples[:, 0], g_samples[:, 1], 'o',label='real data')\n",
    "plt.show()"
   ]
  },
  {
   "cell_type": "code",
   "execution_count": null,
   "metadata": {},
   "outputs": [],
   "source": [
    "type(g_samples1)"
   ]
  },
  {
   "cell_type": "code",
   "execution_count": null,
   "metadata": {},
   "outputs": [],
   "source": [
    "g_samples.shape"
   ]
  },
  {
   "cell_type": "code",
   "execution_count": null,
   "metadata": {},
   "outputs": [],
   "source": [
    "g_samples1 = G(z)"
   ]
  },
  {
   "cell_type": "code",
   "execution_count": null,
   "metadata": {},
   "outputs": [],
   "source": [
    "type(g_samples1)"
   ]
  },
  {
   "cell_type": "code",
   "execution_count": null,
   "metadata": {},
   "outputs": [],
   "source": [
    "g_samples1[0]"
   ]
  },
  {
   "cell_type": "code",
   "execution_count": null,
   "metadata": {},
   "outputs": [],
   "source": [
    "type(g)"
   ]
  },
  {
   "cell_type": "code",
   "execution_count": null,
   "metadata": {},
   "outputs": [],
   "source": [
    "g = torch.from_numpy(g_samples).cuda()"
   ]
  },
  {
   "cell_type": "code",
   "execution_count": null,
   "metadata": {},
   "outputs": [],
   "source": [
    "g[0]"
   ]
  },
  {
   "cell_type": "code",
   "execution_count": null,
   "metadata": {},
   "outputs": [],
   "source": [
    "kk =torch.Tensor()"
   ]
  },
  {
   "cell_type": "code",
   "execution_count": null,
   "metadata": {},
   "outputs": [],
   "source": [
    "kk"
   ]
  },
  {
   "cell_type": "code",
   "execution_count": null,
   "metadata": {},
   "outputs": [],
   "source": []
  }
 ],
 "metadata": {
  "kernelspec": {
   "display_name": "Python 3",
   "language": "python",
   "name": "python3"
  },
  "language_info": {
   "codemirror_mode": {
    "name": "ipython",
    "version": 3
   },
   "file_extension": ".py",
   "mimetype": "text/x-python",
   "name": "python",
   "nbconvert_exporter": "python",
   "pygments_lexer": "ipython3",
   "version": "3.7.3"
  }
 },
 "nbformat": 4,
 "nbformat_minor": 2
}
